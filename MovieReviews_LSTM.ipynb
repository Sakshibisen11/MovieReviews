{
  "nbformat": 4,
  "nbformat_minor": 0,
  "metadata": {
    "colab": {
      "provenance": [],
      "authorship_tag": "ABX9TyM6bwgYsIQgaIdckmLOND8T",
      "include_colab_link": true
    },
    "kernelspec": {
      "name": "python3",
      "display_name": "Python 3"
    },
    "language_info": {
      "name": "python"
    }
  },
  "cells": [
    {
      "cell_type": "markdown",
      "metadata": {
        "id": "view-in-github",
        "colab_type": "text"
      },
      "source": [
        "<a href=\"https://colab.research.google.com/github/Sakshibisen11/MovieReviews/blob/main/MovieReviews_LSTM.ipynb\" target=\"_parent\"><img src=\"https://colab.research.google.com/assets/colab-badge.svg\" alt=\"Open In Colab\"/></a>"
      ]
    },
    {
      "cell_type": "code",
      "execution_count": 1,
      "metadata": {
        "colab": {
          "base_uri": "https://localhost:8080/"
        },
        "id": "tB2yU93DNDNK",
        "outputId": "9f8f3494-bf81-41f7-c56c-8bca8b94fdc5"
      },
      "outputs": [
        {
          "output_type": "stream",
          "name": "stdout",
          "text": [
            "--2022-09-12 19:38:02--  https://www.dropbox.com/s/pdhwlpi2yeie0ol/movie-reviews-dataset.zip\n",
            "Resolving www.dropbox.com (www.dropbox.com)... 162.125.2.18, 2620:100:6017:18::a27d:212\n",
            "Connecting to www.dropbox.com (www.dropbox.com)|162.125.2.18|:443... connected.\n",
            "HTTP request sent, awaiting response... 302 Found\n",
            "Location: /s/raw/pdhwlpi2yeie0ol/movie-reviews-dataset.zip [following]\n",
            "--2022-09-12 19:38:03--  https://www.dropbox.com/s/raw/pdhwlpi2yeie0ol/movie-reviews-dataset.zip\n",
            "Reusing existing connection to www.dropbox.com:443.\n",
            "HTTP request sent, awaiting response... 302 Found\n",
            "Location: https://uce331475f0afa47e026d70eb451.dl.dropboxusercontent.com/cd/0/inline/Bs0yGjSHx0d0ldzzBdsoAOYIlnf2Hwd_quZXS5oO1V7hYTaKYg1NCxRFJ5N9wYdqMIH6xeO74VpHlQNOcTKsZPRUykUadEvRwoItEA2cKqmY2AArU5rsp01DOExVo8lqVXaIDfp5CPxFnXzSRHeJ3edCoZ58llt-dk15mhf3glIC-A/file# [following]\n",
            "--2022-09-12 19:38:03--  https://uce331475f0afa47e026d70eb451.dl.dropboxusercontent.com/cd/0/inline/Bs0yGjSHx0d0ldzzBdsoAOYIlnf2Hwd_quZXS5oO1V7hYTaKYg1NCxRFJ5N9wYdqMIH6xeO74VpHlQNOcTKsZPRUykUadEvRwoItEA2cKqmY2AArU5rsp01DOExVo8lqVXaIDfp5CPxFnXzSRHeJ3edCoZ58llt-dk15mhf3glIC-A/file\n",
            "Resolving uce331475f0afa47e026d70eb451.dl.dropboxusercontent.com (uce331475f0afa47e026d70eb451.dl.dropboxusercontent.com)... 162.125.65.15, 2620:100:6017:15::a27d:20f\n",
            "Connecting to uce331475f0afa47e026d70eb451.dl.dropboxusercontent.com (uce331475f0afa47e026d70eb451.dl.dropboxusercontent.com)|162.125.65.15|:443... connected.\n",
            "HTTP request sent, awaiting response... 302 Found\n",
            "Location: /cd/0/inline2/Bs26rCmWlCRzYE_9-kh4bXbeMCP0mRS3ZD5Ur0hPPIrUxcUHoKyUKrxXBBt516KflOc0EKRBBw-tj5Y1n6ADau1aJPNspoTP3_4CVUgFxSPlkIGynPjlhHBYbVez3XvMF9sQATR-6nS2GlwDUORiOJ7Q0f1o1HUzAzgPPkXKFP5q4qe9qNDOvaZfEz8709-DEkJ6CJQp4fN3vR-or9HRuid2X7nhb51xljgUFGgRjZR0ksIWE7SnsdySiYzqxphMMiX7GxoDo_NAT4FE-PVF7SKoHwYbOScXiJVKRmzopvi_F07lC4Ty0_Q5rEsT8iR1-Fc01HIO3PGn665hKgfR5td6X-Ty5qbhDt80qt7GRSOMUwKI4eEOrwM_8z3hKraPM2Kv-NHaCn11VSWd88FsgRki0jXAt22V6DqV8iMRrmfD7A/file [following]\n",
            "--2022-09-12 19:38:04--  https://uce331475f0afa47e026d70eb451.dl.dropboxusercontent.com/cd/0/inline2/Bs26rCmWlCRzYE_9-kh4bXbeMCP0mRS3ZD5Ur0hPPIrUxcUHoKyUKrxXBBt516KflOc0EKRBBw-tj5Y1n6ADau1aJPNspoTP3_4CVUgFxSPlkIGynPjlhHBYbVez3XvMF9sQATR-6nS2GlwDUORiOJ7Q0f1o1HUzAzgPPkXKFP5q4qe9qNDOvaZfEz8709-DEkJ6CJQp4fN3vR-or9HRuid2X7nhb51xljgUFGgRjZR0ksIWE7SnsdySiYzqxphMMiX7GxoDo_NAT4FE-PVF7SKoHwYbOScXiJVKRmzopvi_F07lC4Ty0_Q5rEsT8iR1-Fc01HIO3PGn665hKgfR5td6X-Ty5qbhDt80qt7GRSOMUwKI4eEOrwM_8z3hKraPM2Kv-NHaCn11VSWd88FsgRki0jXAt22V6DqV8iMRrmfD7A/file\n",
            "Reusing existing connection to uce331475f0afa47e026d70eb451.dl.dropboxusercontent.com:443.\n",
            "HTTP request sent, awaiting response... 200 OK\n",
            "Length: 62951389 (60M) [application/zip]\n",
            "Saving to: ‘movie-reviews-dataset.zip’\n",
            "\n",
            "movie-reviews-datas 100%[===================>]  60.03M  16.5MB/s    in 4.7s    \n",
            "\n",
            "2022-09-12 19:38:09 (12.8 MB/s) - ‘movie-reviews-dataset.zip’ saved [62951389/62951389]\n",
            "\n"
          ]
        }
      ],
      "source": [
        "!wget https://www.dropbox.com/s/pdhwlpi2yeie0ol/movie-reviews-dataset.zip"
      ]
    },
    {
      "cell_type": "code",
      "source": [
        "!unzip -q \"/content/movie-reviews-dataset.zip\""
      ],
      "metadata": {
        "id": "jBadPEzfNUXm"
      },
      "execution_count": 2,
      "outputs": []
    },
    {
      "cell_type": "code",
      "source": [
        "from tensorflow.keras.preprocessing import text_dataset_from_directory\n",
        "from tensorflow.strings import regex_replace\n",
        "from tensorflow.keras.layers.experimental.preprocessing import TextVectorization\n",
        "from tensorflow.keras.models import Sequential\n",
        "from tensorflow.keras import Input\n",
        "from tensorflow.keras.layers import Dense,LSTM,Embedding,Dropout\n"
      ],
      "metadata": {
        "id": "X07vAD4FNUZ9"
      },
      "execution_count": 3,
      "outputs": []
    },
    {
      "cell_type": "code",
      "source": [
        "def prepareData(dir):\n",
        "  data=text_dataset_from_directory(dir)\n",
        "  return data.map(\n",
        "      lambda text,label:(regex_replace(text,'<br/>',''),label),\n",
        "  )"
      ],
      "metadata": {
        "id": "PUbM5y9GNUcN"
      },
      "execution_count": 4,
      "outputs": []
    },
    {
      "cell_type": "code",
      "source": [
        "train_data=prepareData('movie-reviews-dataset/train')\n",
        "test_data=prepareData('movie-reviews-dataset/test')\n",
        "for text_batch,label_batch in train_data.take(1):\n",
        "  print(text_batch.numpy()[0])\n",
        "  print(label_batch.numpy()[0])"
      ],
      "metadata": {
        "colab": {
          "base_uri": "https://localhost:8080/"
        },
        "id": "Zo33AtyGNrVO",
        "outputId": "f07f15a2-85c3-40ed-be8c-220cd004ef25"
      },
      "execution_count": 5,
      "outputs": [
        {
          "output_type": "stream",
          "name": "stdout",
          "text": [
            "Found 25000 files belonging to 2 classes.\n",
            "Found 25000 files belonging to 2 classes.\n",
            "b\"Carlos Mencia was excellent this is hour special. He was working hard to show everybody he was the real deal. I know people have said he's stolen material in this special, but that is not true. Carlos brings comedy up front the way he wants it, not how anyone else wants it, that is why he is so good. People say he's not funny because he says Dee dee dee too much, and they still haven't realized thats part of his act, and they don't want it that way, but he brings it like that anyway, and succeeds in making people laugh. For all the haters out there, here is a message, Carlos is here to stay, you have no point in trying to bring him down.\"\n",
            "1\n"
          ]
        }
      ]
    },
    {
      "cell_type": "code",
      "source": [
        "model=Sequential()"
      ],
      "metadata": {
        "id": "8qmHa1ErNrYI"
      },
      "execution_count": 6,
      "outputs": []
    },
    {
      "cell_type": "code",
      "source": [
        "model.add(Input(shape=(1,),dtype=\"string\"))"
      ],
      "metadata": {
        "id": "qhPqQg5DNxe3"
      },
      "execution_count": 7,
      "outputs": []
    },
    {
      "cell_type": "code",
      "source": [
        "#convert string input to vector representation\n",
        "max_tokens=1000  #tokenize only 1000 words.Rest other words are considered as out of vocabulary\n",
        "max_len=100 #determines maximum length of the vector\n",
        "vectorize_layer=TextVectorization(\n",
        "    max_tokens=max_tokens,\n",
        "    output_mode='int',\n",
        "    output_sequence_length=max_len,\n",
        ")"
      ],
      "metadata": {
        "id": "OhyLnBAJNxhQ"
      },
      "execution_count": 8,
      "outputs": []
    },
    {
      "cell_type": "code",
      "source": [
        "#extract data from train_data object and train the vectorizor\n",
        "train_texts=train_data.map(lambda text,label:text)\n",
        "vectorize_layer.adapt(train_texts)\n",
        "model.add(vectorize_layer)"
      ],
      "metadata": {
        "id": "w1bY2XwSNran"
      },
      "execution_count": 9,
      "outputs": []
    },
    {
      "cell_type": "code",
      "source": [
        "model.add(Embedding(max_tokens+1,128))\n",
        "model.add(LSTM(64))\n",
        "model.add(Dense(64,activation=\"relu\"))\n",
        "model.add(Dense(1,activation=\"sigmoid\"))"
      ],
      "metadata": {
        "id": "iA1wA0-2N7Ul"
      },
      "execution_count": 10,
      "outputs": []
    },
    {
      "cell_type": "code",
      "source": [
        "model.compile(loss=\"binary_crossentropy\",optimizer=\"adam\",metrics=[\"accuracy\"])"
      ],
      "metadata": {
        "id": "WNM0GxWcN7Xf"
      },
      "execution_count": 11,
      "outputs": []
    },
    {
      "cell_type": "code",
      "source": [
        "model.fit(train_data,epochs=2)"
      ],
      "metadata": {
        "colab": {
          "base_uri": "https://localhost:8080/"
        },
        "id": "JjKNuy1_OU3H",
        "outputId": "f33e4b5c-974c-4e4d-9cf2-859101faa554"
      },
      "execution_count": 12,
      "outputs": [
        {
          "output_type": "stream",
          "name": "stdout",
          "text": [
            "Epoch 1/2\n",
            "782/782 [==============================] - 63s 77ms/step - loss: 0.5361 - accuracy: 0.7284\n",
            "Epoch 2/2\n",
            "782/782 [==============================] - 57s 73ms/step - loss: 0.4444 - accuracy: 0.7941\n"
          ]
        },
        {
          "output_type": "execute_result",
          "data": {
            "text/plain": [
              "<keras.callbacks.History at 0x7f7a3214ae90>"
            ]
          },
          "metadata": {},
          "execution_count": 12
        }
      ]
    },
    {
      "cell_type": "code",
      "source": [
        "model.evaluate(test_data)"
      ],
      "metadata": {
        "colab": {
          "base_uri": "https://localhost:8080/"
        },
        "id": "B_QVBCclOU5C",
        "outputId": "b21f1aee-5717-4578-cae0-9b90a7392027"
      },
      "execution_count": 13,
      "outputs": [
        {
          "output_type": "stream",
          "name": "stdout",
          "text": [
            "782/782 [==============================] - 22s 27ms/step - loss: 0.4478 - accuracy: 0.7868\n"
          ]
        },
        {
          "output_type": "execute_result",
          "data": {
            "text/plain": [
              "[0.44779476523399353, 0.7868000268936157]"
            ]
          },
          "metadata": {},
          "execution_count": 13
        }
      ]
    },
    {
      "cell_type": "code",
      "source": [
        "text=\"I loved this movie\""
      ],
      "metadata": {
        "id": "3JNe8T-uOmWG"
      },
      "execution_count": 14,
      "outputs": []
    },
    {
      "cell_type": "code",
      "source": [
        "model.predict([text]) #positive review"
      ],
      "metadata": {
        "colab": {
          "base_uri": "https://localhost:8080/"
        },
        "id": "VDCSkylBOmYx",
        "outputId": "8006c3cc-0ed2-4f11-d2bd-3c2a001d3002"
      },
      "execution_count": 15,
      "outputs": [
        {
          "output_type": "execute_result",
          "data": {
            "text/plain": [
              "array([[0.93744445]], dtype=float32)"
            ]
          },
          "metadata": {},
          "execution_count": 15
        }
      ]
    }
  ]
}