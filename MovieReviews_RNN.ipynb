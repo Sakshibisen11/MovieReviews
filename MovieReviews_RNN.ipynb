{
  "nbformat": 4,
  "nbformat_minor": 0,
  "metadata": {
    "colab": {
      "provenance": [],
      "collapsed_sections": [],
      "authorship_tag": "ABX9TyPtqu1ND6YxigaC05r8EIhs",
      "include_colab_link": true
    },
    "kernelspec": {
      "name": "python3",
      "display_name": "Python 3"
    },
    "language_info": {
      "name": "python"
    }
  },
  "cells": [
    {
      "cell_type": "markdown",
      "metadata": {
        "id": "view-in-github",
        "colab_type": "text"
      },
      "source": [
        "<a href=\"https://colab.research.google.com/github/Sakshibisen11/MovieReviews/blob/main/MovieReviews_RNN.ipynb\" target=\"_parent\"><img src=\"https://colab.research.google.com/assets/colab-badge.svg\" alt=\"Open In Colab\"/></a>"
      ]
    },
    {
      "cell_type": "code",
      "execution_count": null,
      "metadata": {
        "id": "0_Ik2IckqNia",
        "colab": {
          "base_uri": "https://localhost:8080/"
        },
        "outputId": "5421115e-226d-434e-9553-0cea195a426b"
      },
      "outputs": [
        {
          "output_type": "stream",
          "name": "stdout",
          "text": [
            "--2022-09-12 18:13:03--  https://www.dropbox.com/s/pdhwlpi2yeie0ol/movie-reviews-dataset.zip\n",
            "Resolving www.dropbox.com (www.dropbox.com)... 162.125.3.18, 2620:100:6019:18::a27d:412\n",
            "Connecting to www.dropbox.com (www.dropbox.com)|162.125.3.18|:443... connected.\n",
            "HTTP request sent, awaiting response... 302 Found\n",
            "Location: /s/raw/pdhwlpi2yeie0ol/movie-reviews-dataset.zip [following]\n",
            "--2022-09-12 18:13:03--  https://www.dropbox.com/s/raw/pdhwlpi2yeie0ol/movie-reviews-dataset.zip\n",
            "Reusing existing connection to www.dropbox.com:443.\n",
            "HTTP request sent, awaiting response... 302 Found\n",
            "Location: https://uc7e56b6b53c2124bdfafe80df39.dl.dropboxusercontent.com/cd/0/inline/Bs1EJjoV4iS_ZDZocB3xQ4tMBJWLPDYLHwiAW4EFHXTLO-lsoq7MuvnPPTJLsTDsrIhQOupiCuxHTUCaohGPnWXEORxjlaiQsUJ6cki54SpNy05KqeP83B7Dkw8ajTAKX48GEbiZ_vvgW4bCJUVb3OwNepoi3mt86OmiQ3jMVKJvLg/file# [following]\n",
            "--2022-09-12 18:13:03--  https://uc7e56b6b53c2124bdfafe80df39.dl.dropboxusercontent.com/cd/0/inline/Bs1EJjoV4iS_ZDZocB3xQ4tMBJWLPDYLHwiAW4EFHXTLO-lsoq7MuvnPPTJLsTDsrIhQOupiCuxHTUCaohGPnWXEORxjlaiQsUJ6cki54SpNy05KqeP83B7Dkw8ajTAKX48GEbiZ_vvgW4bCJUVb3OwNepoi3mt86OmiQ3jMVKJvLg/file\n",
            "Resolving uc7e56b6b53c2124bdfafe80df39.dl.dropboxusercontent.com (uc7e56b6b53c2124bdfafe80df39.dl.dropboxusercontent.com)... 162.125.6.15, 2620:100:601d:15::a27d:50f\n",
            "Connecting to uc7e56b6b53c2124bdfafe80df39.dl.dropboxusercontent.com (uc7e56b6b53c2124bdfafe80df39.dl.dropboxusercontent.com)|162.125.6.15|:443... connected.\n",
            "HTTP request sent, awaiting response... 302 Found\n",
            "Location: /cd/0/inline2/Bs1jpLC4S8YOzApjdUWQKfyPHP0BZ84YZ__oC-8O8FBMFjlFf5FHjF5uGia6YYC-IF0eKkiaV1Mu9tUb4Z5jLa4cSCK9LvmcPinP1BQjIpuoBHQHVuE_VyosS5_j40nJsFN-geEROmSfGwBXL9hP5pZFvL8eVGb3fWqqNYdtMSFElBQ3KTNrG-WFRRnLAMnQQGqKHJjxDiPMlBQqv6BWd2f9iGITWRQlmaiSNDZrjJOkQWTzrp6C0AWhIWFTjPaCgANTkf77clnuVA1bzy27bPvCK-hZlusFWs4TlKDJBBDu204CdaFNQXjTWhrbEAdwieAhyjLwM8a3YXyLQfe3vKXQortDTGqtRKDnrRuu0NnXuw-O40q1dyGG2TjKzLTLHMYEVXeBCkiNkg5PnTaD3RLL4ROyoIqsjXK73XKxJ57gew/file [following]\n",
            "--2022-09-12 18:13:04--  https://uc7e56b6b53c2124bdfafe80df39.dl.dropboxusercontent.com/cd/0/inline2/Bs1jpLC4S8YOzApjdUWQKfyPHP0BZ84YZ__oC-8O8FBMFjlFf5FHjF5uGia6YYC-IF0eKkiaV1Mu9tUb4Z5jLa4cSCK9LvmcPinP1BQjIpuoBHQHVuE_VyosS5_j40nJsFN-geEROmSfGwBXL9hP5pZFvL8eVGb3fWqqNYdtMSFElBQ3KTNrG-WFRRnLAMnQQGqKHJjxDiPMlBQqv6BWd2f9iGITWRQlmaiSNDZrjJOkQWTzrp6C0AWhIWFTjPaCgANTkf77clnuVA1bzy27bPvCK-hZlusFWs4TlKDJBBDu204CdaFNQXjTWhrbEAdwieAhyjLwM8a3YXyLQfe3vKXQortDTGqtRKDnrRuu0NnXuw-O40q1dyGG2TjKzLTLHMYEVXeBCkiNkg5PnTaD3RLL4ROyoIqsjXK73XKxJ57gew/file\n",
            "Reusing existing connection to uc7e56b6b53c2124bdfafe80df39.dl.dropboxusercontent.com:443.\n",
            "HTTP request sent, awaiting response... 200 OK\n",
            "Length: 62951389 (60M) [application/zip]\n",
            "Saving to: ‘movie-reviews-dataset.zip’\n",
            "\n",
            "movie-reviews-datas 100%[===================>]  60.03M  84.4MB/s    in 0.7s    \n",
            "\n",
            "2022-09-12 18:13:04 (84.4 MB/s) - ‘movie-reviews-dataset.zip’ saved [62951389/62951389]\n",
            "\n"
          ]
        }
      ],
      "source": [
        "!wget https://www.dropbox.com/s/pdhwlpi2yeie0ol/movie-reviews-dataset.zip"
      ]
    },
    {
      "cell_type": "code",
      "source": [
        "!unzip -q \"/content/movie-reviews-dataset.zip\""
      ],
      "metadata": {
        "id": "oVjVWkXD6CDE"
      },
      "execution_count": null,
      "outputs": []
    },
    {
      "cell_type": "code",
      "source": [
        "from tensorflow.keras.preprocessing import text_dataset_from_directory\n",
        "from tensorflow.strings import regex_replace\n",
        "from tensorflow.keras.layers.experimental.preprocessing import TextVectorization\n",
        "from tensorflow.keras.models import Sequential\n",
        "from tensorflow.keras import Input\n",
        "from tensorflow.keras.layers import Dense,RNN,SimpleRNNCell,Embedding,Dropout\n"
      ],
      "metadata": {
        "id": "apLnvtPi5hmf"
      },
      "execution_count": null,
      "outputs": []
    },
    {
      "cell_type": "code",
      "source": [
        "def prepareData(dir):\n",
        "  data=text_dataset_from_directory(dir)\n",
        "  return data.map(\n",
        "      lambda text,label:(regex_replace(text,'<br/>',''),label),\n",
        "  )"
      ],
      "metadata": {
        "id": "BAJ1S6ih5hpW"
      },
      "execution_count": null,
      "outputs": []
    },
    {
      "cell_type": "code",
      "source": [
        "train_data=prepareData('movie-reviews-dataset/train')\n",
        "test_data=prepareData('movie-reviews-dataset/test')\n",
        "for text_batch,label_batch in train_data.take(1):\n",
        "  print(text_batch.numpy()[0])\n",
        "  print(label_batch.numpy()[0])"
      ],
      "metadata": {
        "colab": {
          "base_uri": "https://localhost:8080/"
        },
        "id": "itFd2_oPjxsD",
        "outputId": "37c99b2e-402f-4a74-8602-7f81bc7543f9"
      },
      "execution_count": null,
      "outputs": [
        {
          "output_type": "stream",
          "name": "stdout",
          "text": [
            "Found 25000 files belonging to 2 classes.\n",
            "Found 25000 files belonging to 2 classes.\n",
            "b'Hunky Geordie Robson Green is Owen Springer, a young doctor who moves home to Manchester to be near his father. Along the way, he falls for Anna, a woman 20 years his senior, and who happens to be the wife of his new boss, Richard Crane. Despite warnings from his new colleagues, Owen proceeds to get Anna for himself, going as far as to sabotage Anna and the cheating Richard\\'s marriage. This is a romantic drama with many humorous undertones and a quick wit. The actors are superb: Green of \"The Student Prince\" and \"Touching Evil\" smolders on-screen as the cunning, yet warm-hearted Owen; Annis of \"Dune\" fame is lively and proves a good match to Green; Kitchen, from \"To Play The King\" is the right menace as Richard, whose comic missteps and snobbery underline his masterful, building hatred for Owen. This is a perfect love triangle, and despite the foibles and fallacies of our three characters, you come away better for knowing and watching them.'\n",
            "1\n"
          ]
        }
      ]
    },
    {
      "cell_type": "code",
      "source": [
        "model=Sequential()"
      ],
      "metadata": {
        "id": "Q0l73LDzjxuJ"
      },
      "execution_count": null,
      "outputs": []
    },
    {
      "cell_type": "code",
      "source": [
        "model.add(Input(shape=(1,),dtype=\"string\"))"
      ],
      "metadata": {
        "id": "4cOApXXLjxyi"
      },
      "execution_count": null,
      "outputs": []
    },
    {
      "cell_type": "code",
      "source": [
        "#convert string input to vector representation\n",
        "max_tokens=1000  #tokenize only 1000 words.Rest other words are considered as out of vocabulary\n",
        "max_len=100 #determines maximum length of the vector\n",
        "vectorize_layer=TextVectorization(\n",
        "    max_tokens=max_tokens,\n",
        "    output_mode='int',\n",
        "    output_sequence_length=max_len,\n",
        ")"
      ],
      "metadata": {
        "id": "JAcQz3NUjx0r"
      },
      "execution_count": null,
      "outputs": []
    },
    {
      "cell_type": "code",
      "source": [
        "#extract data from train_data object and train the vectorizor\n",
        "train_texts=train_data.map(lambda text,label:text)\n",
        "vectorize_layer.adapt(train_texts)\n",
        "model.add(vectorize_layer)"
      ],
      "metadata": {
        "id": "h-SxoykI5hrw"
      },
      "execution_count": null,
      "outputs": []
    },
    {
      "cell_type": "code",
      "source": [
        "#convert integers into fixed length vectors\n",
        "model.add(Embedding(max_tokens+1,128))\n",
        "rnn=RNN(SimpleRNNCell(64),return_sequences=False,return_state=False)\n",
        "#return_sequences=True while we want to add more RNN cells\n",
        "#return_state=False for not viewing the hidden states\n",
        "model.add(rnn)\n",
        "model.add(Dense(64,activation=\"relu\"))\n",
        "model.add(Dense(1,activation=\"sigmoid\"))"
      ],
      "metadata": {
        "id": "_l_Wgw9FDs9C"
      },
      "execution_count": null,
      "outputs": []
    },
    {
      "cell_type": "code",
      "source": [
        "model.compile(loss=\"binary_crossentropy\",optimizer=\"adam\",metrics=[\"accuracy\"])"
      ],
      "metadata": {
        "id": "sHXfKkFPDs_b"
      },
      "execution_count": null,
      "outputs": []
    },
    {
      "cell_type": "code",
      "source": [
        "model.fit(train_data,epochs=1)"
      ],
      "metadata": {
        "colab": {
          "base_uri": "https://localhost:8080/"
        },
        "id": "z7QSN_4SDtBM",
        "outputId": "6ac72856-0b98-438d-912d-8770e926399b"
      },
      "execution_count": null,
      "outputs": [
        {
          "output_type": "stream",
          "name": "stdout",
          "text": [
            "782/782 [==============================] - 18s 21ms/step - loss: 0.6947 - accuracy: 0.5176\n"
          ]
        },
        {
          "output_type": "execute_result",
          "data": {
            "text/plain": [
              "<keras.callbacks.History at 0x7f864bdffc90>"
            ]
          },
          "metadata": {},
          "execution_count": 29
        }
      ]
    },
    {
      "cell_type": "code",
      "source": [
        "model.evaluate(test_data)"
      ],
      "metadata": {
        "colab": {
          "base_uri": "https://localhost:8080/"
        },
        "id": "z-YJG-gmDtD-",
        "outputId": "bdd0c809-bd25-4ad3-d611-aabb7f6e5513"
      },
      "execution_count": null,
      "outputs": [
        {
          "output_type": "stream",
          "name": "stdout",
          "text": [
            "782/782 [==============================] - 7s 9ms/step - loss: 0.6882 - accuracy: 0.5429\n"
          ]
        },
        {
          "output_type": "execute_result",
          "data": {
            "text/plain": [
              "[0.688217282295227, 0.5429199934005737]"
            ]
          },
          "metadata": {},
          "execution_count": 30
        }
      ]
    },
    {
      "cell_type": "code",
      "source": [
        "text=\"I loved this movie\""
      ],
      "metadata": {
        "id": "8c_gCU9VF-AQ"
      },
      "execution_count": null,
      "outputs": []
    },
    {
      "cell_type": "code",
      "source": [
        "model.predict([text])"
      ],
      "metadata": {
        "colab": {
          "base_uri": "https://localhost:8080/"
        },
        "id": "SYass2mmGCSE",
        "outputId": "56da5f1a-41f0-4f4d-bcdc-9005182aae22"
      },
      "execution_count": null,
      "outputs": [
        {
          "output_type": "execute_result",
          "data": {
            "text/plain": [
              "array([[0.51699096]], dtype=float32)"
            ]
          },
          "metadata": {},
          "execution_count": 32
        }
      ]
    },
    {
      "cell_type": "code",
      "source": [],
      "metadata": {
        "id": "L2TqjQbSMt1Q"
      },
      "execution_count": null,
      "outputs": []
    },
    {
      "cell_type": "code",
      "source": [],
      "metadata": {
        "id": "anWe3c5MMt3w"
      },
      "execution_count": null,
      "outputs": []
    },
    {
      "cell_type": "code",
      "source": [],
      "metadata": {
        "id": "Uss8SKrxMt6M"
      },
      "execution_count": null,
      "outputs": []
    }
  ]
}