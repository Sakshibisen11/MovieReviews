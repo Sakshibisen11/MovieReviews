{
  "nbformat": 4,
  "nbformat_minor": 0,
  "metadata": {
    "colab": {
      "provenance": [],
      "authorship_tag": "ABX9TyM+d0Ev7wfDqSQ1Kzz+aqzd",
      "include_colab_link": true
    },
    "kernelspec": {
      "name": "python3",
      "display_name": "Python 3"
    },
    "language_info": {
      "name": "python"
    }
  },
  "cells": [
    {
      "cell_type": "markdown",
      "metadata": {
        "id": "view-in-github",
        "colab_type": "text"
      },
      "source": [
        "<a href=\"https://colab.research.google.com/github/Sakshibisen11/MovieReviews/blob/main/MovieReviews_GRU.ipynb\" target=\"_parent\"><img src=\"https://colab.research.google.com/assets/colab-badge.svg\" alt=\"Open In Colab\"/></a>"
      ]
    },
    {
      "cell_type": "code",
      "execution_count": null,
      "metadata": {
        "id": "8gOPgTA3TsRy"
      },
      "outputs": [],
      "source": []
    },
    {
      "cell_type": "code",
      "execution_count": 1,
      "metadata": {
        "colab": {
          "base_uri": "https://localhost:8080/"
        },
        "id": "tB2yU93DNDNK",
        "outputId": "782f7734-5068-4825-e451-d5f244d51737"
      },
      "outputs": [
        {
          "output_type": "stream",
          "name": "stdout",
          "text": [
            "--2022-09-12 20:19:23--  https://www.dropbox.com/s/pdhwlpi2yeie0ol/movie-reviews-dataset.zip\n",
            "Resolving www.dropbox.com (www.dropbox.com)... 162.125.6.18, 2620:100:601d:18::a27d:512\n",
            "Connecting to www.dropbox.com (www.dropbox.com)|162.125.6.18|:443... connected.\n",
            "HTTP request sent, awaiting response... 302 Found\n",
            "Location: /s/raw/pdhwlpi2yeie0ol/movie-reviews-dataset.zip [following]\n",
            "--2022-09-12 20:19:23--  https://www.dropbox.com/s/raw/pdhwlpi2yeie0ol/movie-reviews-dataset.zip\n",
            "Reusing existing connection to www.dropbox.com:443.\n",
            "HTTP request sent, awaiting response... 302 Found\n",
            "Location: https://ucb62c0e4ba3730680e095ece99a.dl.dropboxusercontent.com/cd/0/inline/Bs1KYVxw1WHBSVGD9tykcPmaDkJL_D1-l4XNkxKLwi519dTlKnKNdIQPqY2v8sV0tph9-YxNOFyEGbGmxDxQNGGGDCQqmizKSvJRBcml6N_OsbxGeq2tRW6ENGWCLI7mRVJ5sTm5TMKPiR2wsYeC5cWRz8SdYgbA0uUIs6kCIS1MWA/file# [following]\n",
            "--2022-09-12 20:19:24--  https://ucb62c0e4ba3730680e095ece99a.dl.dropboxusercontent.com/cd/0/inline/Bs1KYVxw1WHBSVGD9tykcPmaDkJL_D1-l4XNkxKLwi519dTlKnKNdIQPqY2v8sV0tph9-YxNOFyEGbGmxDxQNGGGDCQqmizKSvJRBcml6N_OsbxGeq2tRW6ENGWCLI7mRVJ5sTm5TMKPiR2wsYeC5cWRz8SdYgbA0uUIs6kCIS1MWA/file\n",
            "Resolving ucb62c0e4ba3730680e095ece99a.dl.dropboxusercontent.com (ucb62c0e4ba3730680e095ece99a.dl.dropboxusercontent.com)... 162.125.6.15, 2620:100:601d:15::a27d:50f\n",
            "Connecting to ucb62c0e4ba3730680e095ece99a.dl.dropboxusercontent.com (ucb62c0e4ba3730680e095ece99a.dl.dropboxusercontent.com)|162.125.6.15|:443... connected.\n",
            "HTTP request sent, awaiting response... 302 Found\n",
            "Location: /cd/0/inline2/Bs3RPWQxGss-dZIV-PVxPvsphmAfrA_cI726-uEnSASw8vr6IFdF28JKp-3eJCmPqIKTSYJ8DbYij78CPhMcfnAgAUq-S258zcN-M4-h-AO8LX_AaQxb7qfjVlTD7wIzA8atWcveJMh_hmtUexjucz0yTACqKbkbV6aHcnoglQ7AmUNrwJxQ9jDld-cAtrnhBnWrcJAsvTJWjBHknAT7hAp6ULlSLJBH4g6I4nwozPtM49JtgLcIwmpI1yOG_JQJtY9rgIgNuvw0m-r8jqlK61QZG3fgdQkI_uJMM8ezXuRnIa6zcLB01i6MlAPVB-JLgqKiqjOJXci7Us_v-SND-5kGAxN1ANCJFrM9hgWQhY_m8FAaL_OOn9KzTJG50rWruSOdAXkXEFV-_Hg2klYNfjsV099bI1hjUBT0mYOmCSI9Kw/file [following]\n",
            "--2022-09-12 20:19:24--  https://ucb62c0e4ba3730680e095ece99a.dl.dropboxusercontent.com/cd/0/inline2/Bs3RPWQxGss-dZIV-PVxPvsphmAfrA_cI726-uEnSASw8vr6IFdF28JKp-3eJCmPqIKTSYJ8DbYij78CPhMcfnAgAUq-S258zcN-M4-h-AO8LX_AaQxb7qfjVlTD7wIzA8atWcveJMh_hmtUexjucz0yTACqKbkbV6aHcnoglQ7AmUNrwJxQ9jDld-cAtrnhBnWrcJAsvTJWjBHknAT7hAp6ULlSLJBH4g6I4nwozPtM49JtgLcIwmpI1yOG_JQJtY9rgIgNuvw0m-r8jqlK61QZG3fgdQkI_uJMM8ezXuRnIa6zcLB01i6MlAPVB-JLgqKiqjOJXci7Us_v-SND-5kGAxN1ANCJFrM9hgWQhY_m8FAaL_OOn9KzTJG50rWruSOdAXkXEFV-_Hg2klYNfjsV099bI1hjUBT0mYOmCSI9Kw/file\n",
            "Reusing existing connection to ucb62c0e4ba3730680e095ece99a.dl.dropboxusercontent.com:443.\n",
            "HTTP request sent, awaiting response... 200 OK\n",
            "Length: 62951389 (60M) [application/zip]\n",
            "Saving to: ‘movie-reviews-dataset.zip’\n",
            "\n",
            "movie-reviews-datas 100%[===================>]  60.03M  79.6MB/s    in 0.8s    \n",
            "\n",
            "2022-09-12 20:19:25 (79.6 MB/s) - ‘movie-reviews-dataset.zip’ saved [62951389/62951389]\n",
            "\n"
          ]
        }
      ],
      "source": [
        "!wget https://www.dropbox.com/s/pdhwlpi2yeie0ol/movie-reviews-dataset.zip"
      ]
    },
    {
      "cell_type": "code",
      "source": [
        "!unzip -q \"/content/movie-reviews-dataset.zip\""
      ],
      "metadata": {
        "id": "jBadPEzfNUXm"
      },
      "execution_count": 2,
      "outputs": []
    },
    {
      "cell_type": "code",
      "source": [
        "from tensorflow.keras.preprocessing import text_dataset_from_directory\n",
        "from tensorflow.strings import regex_replace\n",
        "from tensorflow.keras.layers.experimental.preprocessing import TextVectorization\n",
        "from tensorflow.keras.models import Sequential\n",
        "from tensorflow.keras import Input\n",
        "from tensorflow.keras.layers import Dense,GRU,Embedding,Dropout\n"
      ],
      "metadata": {
        "id": "X07vAD4FNUZ9"
      },
      "execution_count": 3,
      "outputs": []
    },
    {
      "cell_type": "code",
      "source": [
        "def prepareData(dir):\n",
        "  data=text_dataset_from_directory(dir)\n",
        "  return data.map(\n",
        "      lambda text,label:(regex_replace(text,'<br/>',''),label),\n",
        "  )"
      ],
      "metadata": {
        "id": "PUbM5y9GNUcN"
      },
      "execution_count": 4,
      "outputs": []
    },
    {
      "cell_type": "code",
      "source": [
        "train_data=prepareData('movie-reviews-dataset/train')\n",
        "test_data=prepareData('movie-reviews-dataset/test')\n",
        "for text_batch,label_batch in train_data.take(1):\n",
        "  print(text_batch.numpy()[0])\n",
        "  print(label_batch.numpy()[0])"
      ],
      "metadata": {
        "colab": {
          "base_uri": "https://localhost:8080/"
        },
        "id": "Zo33AtyGNrVO",
        "outputId": "ecab47e5-014a-44e1-9941-91a4cd264f18"
      },
      "execution_count": 5,
      "outputs": [
        {
          "output_type": "stream",
          "name": "stdout",
          "text": [
            "Found 25000 files belonging to 2 classes.\n",
            "Found 25000 files belonging to 2 classes.\n",
            "b'The quote I used for my summary occurs about halfway through THE GOOD EARTH, as a captain of a Chinese revolutionary army (played by Philip Ahn) apologizes to a mob for not having time to shoot MORE of the looters among them, as his unit has just been called back to the front lines. Of course, the next looter about to be found out and shot is the main character of the film, the former kitchen slave girl O-Lan (for whose portrayal Luise Rainer, now 99-years-old, won her second consecutive best actress Oscar).<br /><br />The next scene finds O-Lan dutifully delivering her bag of looted jewels to her under-appreciative husband, farmer Wang Lung (Paul Muni), setting in motion that classic dichotomy of a man\\'s upward financial mobility being the direct inverse of his moral decline.<br /><br />For a movie dealing with subject matter including slavery, false accusations, misogyny, starvation, home invasion, eating family pets, mental retardation, infanticide, exploited refugees, riots, civil war, summary mass street executions, bigamy, child-beating, adultery, incest, and insect plagues of biblical proportions, THE GOOD EARTH is a surprisingly heart-warming movie.<br /><br />My parting thought is in the form of another classic quote, from O-Lan herself (while putting the precious soup bone her son has just admitted stealing from an old woman back into the cooking pot after husband Wang Lung had angrily tossed it to the dirt floor on the other side of their hut): \"Meat is meat.\"'\n",
            "1\n"
          ]
        }
      ]
    },
    {
      "cell_type": "code",
      "source": [
        "model=Sequential()"
      ],
      "metadata": {
        "id": "8qmHa1ErNrYI"
      },
      "execution_count": 6,
      "outputs": []
    },
    {
      "cell_type": "code",
      "source": [
        "model.add(Input(shape=(1,),dtype=\"string\"))"
      ],
      "metadata": {
        "id": "qhPqQg5DNxe3"
      },
      "execution_count": 7,
      "outputs": []
    },
    {
      "cell_type": "code",
      "source": [
        "#convert string input to vector representation\n",
        "max_tokens=1000  #tokenize only 1000 words.Rest other words are considered as out of vocabulary\n",
        "max_len=100 #determines maximum length of the vector\n",
        "vectorize_layer=TextVectorization(\n",
        "    max_tokens=max_tokens,\n",
        "    output_mode='int',\n",
        "    output_sequence_length=max_len,\n",
        ")"
      ],
      "metadata": {
        "id": "OhyLnBAJNxhQ"
      },
      "execution_count": 8,
      "outputs": []
    },
    {
      "cell_type": "code",
      "source": [
        "#extract data from train_data object and train the vectorizor\n",
        "train_texts=train_data.map(lambda text,label:text)\n",
        "vectorize_layer.adapt(train_texts)\n",
        "model.add(vectorize_layer)"
      ],
      "metadata": {
        "id": "w1bY2XwSNran"
      },
      "execution_count": 9,
      "outputs": []
    },
    {
      "cell_type": "code",
      "source": [
        "model.add(Embedding(max_tokens+1,128))\n",
        "model.add(GRU(64))\n",
        "model.add(Dense(64,activation=\"relu\"))\n",
        "model.add(Dense(1,activation=\"sigmoid\"))"
      ],
      "metadata": {
        "id": "iA1wA0-2N7Ul"
      },
      "execution_count": 10,
      "outputs": []
    },
    {
      "cell_type": "code",
      "source": [
        "model.compile(loss=\"binary_crossentropy\",optimizer=\"adam\",metrics=[\"accuracy\"])"
      ],
      "metadata": {
        "id": "WNM0GxWcN7Xf"
      },
      "execution_count": 11,
      "outputs": []
    },
    {
      "cell_type": "code",
      "source": [
        "model.fit(train_data,epochs=2)"
      ],
      "metadata": {
        "colab": {
          "base_uri": "https://localhost:8080/"
        },
        "id": "JjKNuy1_OU3H",
        "outputId": "163e7f01-d878-4cce-910f-9645af7227cb"
      },
      "execution_count": 12,
      "outputs": [
        {
          "output_type": "stream",
          "name": "stdout",
          "text": [
            "Epoch 1/2\n",
            "782/782 [==============================] - 62s 76ms/step - loss: 0.5817 - accuracy: 0.6755\n",
            "Epoch 2/2\n",
            "782/782 [==============================] - 59s 75ms/step - loss: 0.4319 - accuracy: 0.8003\n"
          ]
        },
        {
          "output_type": "execute_result",
          "data": {
            "text/plain": [
              "<keras.callbacks.History at 0x7f4fdea93cd0>"
            ]
          },
          "metadata": {},
          "execution_count": 12
        }
      ]
    },
    {
      "cell_type": "code",
      "source": [
        "model.evaluate(test_data)"
      ],
      "metadata": {
        "colab": {
          "base_uri": "https://localhost:8080/"
        },
        "id": "B_QVBCclOU5C",
        "outputId": "8fc48d73-2577-42f1-c1ab-d88d4646a42d"
      },
      "execution_count": 13,
      "outputs": [
        {
          "output_type": "stream",
          "name": "stdout",
          "text": [
            "782/782 [==============================] - 19s 24ms/step - loss: 0.4129 - accuracy: 0.8063\n"
          ]
        },
        {
          "output_type": "execute_result",
          "data": {
            "text/plain": [
              "[0.41285645961761475, 0.8063200116157532]"
            ]
          },
          "metadata": {},
          "execution_count": 13
        }
      ]
    },
    {
      "cell_type": "code",
      "source": [
        "text=\"I loved this movie\""
      ],
      "metadata": {
        "id": "3JNe8T-uOmWG"
      },
      "execution_count": 14,
      "outputs": []
    },
    {
      "cell_type": "code",
      "source": [
        "model.predict([text]) #positive review"
      ],
      "metadata": {
        "colab": {
          "base_uri": "https://localhost:8080/"
        },
        "id": "VDCSkylBOmYx",
        "outputId": "0d1105d5-7660-4e5a-b2ac-2b20d0842a2e"
      },
      "execution_count": 15,
      "outputs": [
        {
          "output_type": "execute_result",
          "data": {
            "text/plain": [
              "array([[0.8547847]], dtype=float32)"
            ]
          },
          "metadata": {},
          "execution_count": 15
        }
      ]
    }
  ]
}